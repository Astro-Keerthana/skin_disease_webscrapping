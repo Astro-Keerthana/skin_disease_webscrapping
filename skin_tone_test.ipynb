{
  "nbformat": 4,
  "nbformat_minor": 0,
  "metadata": {
    "colab": {
      "provenance": []
    },
    "kernelspec": {
      "name": "python3",
      "display_name": "Python 3"
    },
    "language_info": {
      "name": "python"
    }
  },
  "cells": [
    {
      "cell_type": "code",
      "execution_count": 1,
      "metadata": {
        "colab": {
          "base_uri": "https://localhost:8080/"
        },
        "id": "OJqBv6rwwTZ6",
        "outputId": "78f07e95-a57e-4c6b-8f11-8195137b720e"
      },
      "outputs": [
        {
          "output_type": "stream",
          "name": "stdout",
          "text": [
            "Drive already mounted at /content/drive; to attempt to forcibly remount, call drive.mount(\"/content/drive\", force_remount=True).\n"
          ]
        }
      ],
      "source": [
        "from google.colab import drive\n",
        "drive.mount('/content/drive')"
      ]
    },
    {
      "cell_type": "code",
      "source": [
        "from keras.models import load_model\n",
        "from PIL import Image, ImageOps\n",
        "import numpy as np\n",
        "import requests\n",
        "from bs4 import BeautifulSoup\n",
        "\n",
        "# Disable scientific notation for clarity\n",
        "np.set_printoptions(suppress=True)\n",
        "\n",
        "# Load the model\n",
        "model = load_model(\"/content/drive/MyDrive/data_skintone/skin tone model.h5\", compile=False)\n",
        "\n",
        "# Load the labels\n",
        "class_names = open(\"/content/drive/MyDrive/data_skintone/skin tone labels.txt\", \"r\").readlines()\n",
        "\n",
        "# Create the array of the right shape to feed into the keras model\n",
        "data = np.ndarray(shape=(1, 224, 224, 3), dtype=np.float32)\n",
        "\n",
        "# Prompt the user to insert the image path\n",
        "image_path = input(\"Please insert the image path: \")\n",
        "\n",
        "# Load the image\n",
        "try:\n",
        "    image = Image.open(image_path).convert(\"RGB\")\n",
        "except FileNotFoundError:\n",
        "    print(\"File not found. Please check the path and try again.\")\n",
        "    exit()\n",
        "\n",
        "# Resize and preprocess the image\n",
        "size = (224, 224)\n",
        "image = ImageOps.fit(image, size, Image.Resampling.LANCZOS)\n",
        "image_array = np.asarray(image)\n",
        "normalized_image_array = (image_array.astype(np.float32) / 127.5) - 1\n",
        "data[0] = normalized_image_array\n",
        "\n",
        "# Predict the class\n",
        "prediction = model.predict(data)\n",
        "index = np.argmax(prediction)\n",
        "class_name = class_names[index]\n",
        "confidence_score = prediction[0][index]\n",
        "\n",
        "# Print prediction and confidence score\n",
        "print(\"Class:\", class_name[2:], end=\"\")\n",
        "print(\"Confidence Score:\", confidence_score)\n",
        "\n",
        "url = 'https://www.healthline.com/health/beauty-skin-care/skin-undertones'\n",
        "print(url)\n",
        "\n",
        "import requests\n",
        "from bs4 import BeautifulSoup\n",
        "\n",
        "# URL of the page to scrape\n",
        "url = \"https://www.healthline.com/health/beauty-skin-care/skin-undertones\"\n",
        "\n",
        "# Send a GET request to the website\n",
        "response = requests.get(url)\n",
        "\n",
        "# Check if the request was successful\n",
        "if response.status_code == 200:\n",
        "    # Parse the HTML content\n",
        "    soup = BeautifulSoup(response.content, 'html.parser')\n",
        "\n",
        "    # Extract the main content of the article\n",
        "    article_content = soup.find_all('div', class_='css-0')\n",
        "\n",
        "    # Print the text of the article\n",
        "    for content in article_content:\n",
        "        print(content.get_text())\n",
        "else:\n",
        "    print(f\"Failed to retrieve the webpage. Status code: {response.status_code}\")\n",
        "\n"
      ],
      "metadata": {
        "colab": {
          "base_uri": "https://localhost:8080/"
        },
        "id": "Yl16Dgn870zW",
        "outputId": "ac5e1fa9-7516-4bd6-f6ba-c6dfb96500da"
      },
      "execution_count": 2,
      "outputs": [
        {
          "output_type": "stream",
          "name": "stdout",
          "text": [
            "Please insert the image path: /content/drive/MyDrive/data_skintone/dark/103674846.jpg\n",
            "1/1 [==============================] - 2s 2s/step\n",
            "Class: dark\n",
            "Confidence Score: 0.99949527\n",
            "https://www.healthline.com/health/beauty-skin-care/skin-undertones\n",
            "Healthline has strict sourcing guidelines and relies on peer-reviewed studies, academic research institutions, and medical journals and associations. We only use quality, credible sources to ensure content accuracy and integrity. You can learn more about how we ensure our content is accurate and current by reading our editorial policy.\n"
          ]
        }
      ]
    }
  ]
}