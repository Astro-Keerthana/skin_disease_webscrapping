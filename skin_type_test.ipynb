{
  "nbformat": 4,
  "nbformat_minor": 0,
  "metadata": {
    "colab": {
      "provenance": []
    },
    "kernelspec": {
      "name": "python3",
      "display_name": "Python 3"
    },
    "language_info": {
      "name": "python"
    }
  },
  "cells": [
    {
      "cell_type": "code",
      "execution_count": null,
      "metadata": {
        "colab": {
          "base_uri": "https://localhost:8080/"
        },
        "id": "k7olur3p2ghS",
        "outputId": "b67beff9-525f-4430-f042-5b536f9ccd85"
      },
      "outputs": [
        {
          "output_type": "stream",
          "name": "stdout",
          "text": [
            "Mounted at /content/drive\n"
          ]
        }
      ],
      "source": [
        "from google.colab import drive\n",
        "drive.mount('/content/drive')"
      ]
    },
    {
      "cell_type": "code",
      "source": [
        "import numpy as np\n",
        "import pandas as pd\n",
        "from tensorflow.keras.models import load_model\n",
        "from sklearn.preprocessing import LabelEncoder\n",
        "\n",
        "# Load the saved model\n",
        "model = load_model('/content/drive/MyDrive/skin type/skin_type_cnn_model.h5')\n",
        "\n",
        "# Define the questions\n",
        "questions = [\n",
        "    'How does your skin feel after cleansing? (A: Dry, B: Oily, C: Normal)',\n",
        "    'How often do you experience acne or breakouts? (A: Rarely, B: Often, C: Sometimes)',\n",
        "    'How often does your skin feel greasy throughout the day? (A: Rarely, B: Often, C: Sometimes)',\n",
        "    'Does your skin flake or peel? (A: Yes, B: No, C: Occasionally)',\n",
        "    'Do you experience redness or irritation? (A: Often, B: Rarely, C: Sometimes)'\n",
        "]\n",
        "\n",
        "# Collect user input\n",
        "answers = []\n",
        "print(\"Please answer the following questions with A, B, or C:\\n\")\n",
        "for question in questions:\n",
        "    while True:\n",
        "        answer = input(question + '\\n').strip().upper()\n",
        "        if answer in ['A', 'B', 'C']:\n",
        "            answers.append(answer)\n",
        "            break\n",
        "        else:\n",
        "            print(\"Invalid input. Please enter A, B, or C.\")\n",
        "\n",
        "# Encode the answers\n",
        "encoded_answers = np.array([ord(c) - ord('A') for c in answers])\n",
        "encoded_answers = encoded_answers.reshape((1, len(answers), 1))\n",
        "\n",
        "# Make prediction\n",
        "prediction = model.predict(encoded_answers)\n",
        "predicted_class = np.argmax(prediction, axis=1)\n",
        "skin_types = ['Dry', 'Oily', 'Normal']\n",
        "predicted_skin_type = skin_types[predicted_class[0]]\n",
        "\n",
        "# Display the result\n",
        "print(f\"\\nBased on your answers, your skin type is: {predicted_skin_type}\")\n"
      ],
      "metadata": {
        "colab": {
          "base_uri": "https://localhost:8080/"
        },
        "id": "9C3iBkqY2nrt",
        "outputId": "36f4e7f2-b304-4a41-f3cd-db90b6d0c942"
      },
      "execution_count": null,
      "outputs": [
        {
          "output_type": "stream",
          "name": "stdout",
          "text": [
            "Please answer the following questions with A, B, or C:\n",
            "\n",
            "How does your skin feel after cleansing? (A: Dry, B: Oily, C: Normal)\n",
            "c\n",
            "How often do you experience acne or breakouts? (A: Rarely, B: Often, C: Sometimes)\n",
            "b\n",
            "How often does your skin feel greasy throughout the day? (A: Rarely, B: Often, C: Sometimes)\n",
            "c\n",
            "Does your skin flake or peel? (A: Yes, B: No, C: Occasionally)\n",
            "c\n",
            "Do you experience redness or irritation? (A: Often, B: Rarely, C: Sometimes)\n",
            "b\n",
            "1/1 [==============================] - 0s 135ms/step\n",
            "\n",
            "Based on your answers, your skin type is: Oily\n"
          ]
        }
      ]
    }
  ]
}